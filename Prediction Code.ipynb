{
 "cells": [
  {
   "cell_type": "code",
   "execution_count": 1,
   "metadata": {},
   "outputs": [
    {
     "name": "stdout",
     "output_type": "stream",
     "text": [
      "(128,)\n",
      "(1, 128)\n",
      "WARNING:tensorflow:From <ipython-input-1-154221e575ab>:28: Sequential.predict_classes (from tensorflow.python.keras.engine.sequential) is deprecated and will be removed after 2021-01-01.\n",
      "Instructions for updating:\n",
      "Please use instead:* `np.argmax(model.predict(x), axis=-1)`,   if your model does multi-class classification   (e.g. if it uses a `softmax` last-layer activation).* `(model.predict(x) > 0.5).astype(\"int32\")`,   if your model does binary classification   (e.g. if it uses a `sigmoid` last-layer activation).\n",
      "(128,)\n",
      "(1, 128)\n",
      "(128,)\n",
      "(1, 128)\n",
      "(128,)\n",
      "(1, 128)\n",
      "(128,)\n",
      "(1, 128)\n",
      "(128,)\n",
      "(1, 128)\n",
      "(128,)\n",
      "(1, 128)\n",
      "(128,)\n",
      "(1, 128)\n",
      "(128,)\n",
      "(1, 128)\n",
      "(128,)\n",
      "(1, 128)\n",
      "(128,)\n",
      "(1, 128)\n",
      "(128,)\n",
      "(1, 128)\n"
     ]
    }
   ],
   "source": [
    "import glob\n",
    "import dlib\n",
    "import cv2\n",
    "import random\n",
    "import numpy as np\n",
    "from keras.models import load_model\n",
    "detector = dlib.get_frontal_face_detector()\n",
    "predictor = dlib.shape_predictor('shape_predictor_68_face_landmarks.dat')\n",
    "face_model = dlib.face_recognition_model_v1('dlib_face_recognition_resnet_model_v1.dat')\n",
    "model=load_model(\"face_test_model.h5\",compile=False)\n",
    "name = ['Venky ', 'Unknown: ']\n",
    "font = cv2.FONT_HERSHEY_DUPLEX\n",
    "cap = cv2.VideoCapture(0)\n",
    "while True:\n",
    "    ret, img = cap.read()\n",
    "    if not ret:\n",
    "        break\n",
    "    faces = detector(img,1)\n",
    "    if len(faces) > 0:\n",
    "        for i in range(len(faces)):\n",
    "            f = faces[i]\n",
    "            shapes = predictor(img,f)\n",
    "            face_descriptor = face_model.compute_face_descriptor(img, shapes)\n",
    "            face_descriptor = np.array(face_descriptor)\n",
    "            print(face_descriptor.shape)\n",
    "            descriptor = face_descriptor.reshape(1,-1)\n",
    "            print(descriptor.shape)\n",
    "            prediction = model.predict_classes(descriptor)\n",
    "            class_name=name[prediction[0][0]]\n",
    "            cv2.rectangle(img,(f.left(), f.top()), (f.right(),f.top()-20),(0,255,0), -1)\n",
    "            cv2.rectangle(img, (f.left(), f.top()), (f.right(), f.bottom()),(0,255,0),1)\n",
    "            cv2.putText(img,class_name, (f.left(),f.top()), font, 0.6, (0,0,0), 0)\n",
    "    cv2.imshow('image',img)\n",
    "    if cv2.waitKey(41) & 0xff == ord('q'):\n",
    "        break        \n",
    "cap.release()\n",
    "cv2.destroyAllWindows()\n",
    "\n"
   ]
  },
  {
   "cell_type": "code",
   "execution_count": null,
   "metadata": {},
   "outputs": [],
   "source": []
  },
  {
   "cell_type": "code",
   "execution_count": null,
   "metadata": {},
   "outputs": [],
   "source": []
  }
 ],
 "metadata": {
  "kernelspec": {
   "display_name": "Python 3",
   "language": "python",
   "name": "python3"
  },
  "language_info": {
   "codemirror_mode": {
    "name": "ipython",
    "version": 3
   },
   "file_extension": ".py",
   "mimetype": "text/x-python",
   "name": "python",
   "nbconvert_exporter": "python",
   "pygments_lexer": "ipython3",
   "version": "3.8.3"
  }
 },
 "nbformat": 4,
 "nbformat_minor": 2
}
